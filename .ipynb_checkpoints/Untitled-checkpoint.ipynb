{
 "cells": [
  {
   "cell_type": "code",
   "execution_count": 42,
   "metadata": {},
   "outputs": [],
   "source": [
    "import numpy as np\n",
    "import pandas as pd\n",
    "import matplotlib.pyplot as plt\n"
   ]
  },
  {
   "cell_type": "code",
   "execution_count": null,
   "metadata": {},
   "outputs": [],
   "source": [
    "def sigmoid(X):\n",
    "    S = 1./(1+np.exp(-X))"
   ]
  },
  {
   "cell_type": "code",
   "execution_count": 40,
   "metadata": {},
   "outputs": [],
   "source": [
    "def read_data():\n",
    "    data = pd.read_csv('train.csv').values.astype(np.float32)\n",
    "    labels = data[:,0]\n",
    "    dataset = data[:,1:]\n",
    "    labels = np.reshape(labels,(-1,1))\n",
    "    labels = labels.T\n",
    "    m = labels.shape[1]\n",
    "    Y = np.zeros((10,m))\n",
    "    for i in range(m):\n",
    "        Y[labels[i],i]=1\n",
    "    y_cv = Y[:,0:4000]  \n",
    "    y_test = Y[:,4000:8000]\n",
    "    y_train = Y[:,8000:]\n",
    "    x_cv = X_full[:,0:4000]\n",
    "    x_test = X_full[:,4000:8000]\n",
    "    x_train = x_full[:,8000:]\n",
    "    return x_train,y_train,x_cv,y_cv,x_test,y_test\n",
    "\n"
   ]
  },
  {
   "cell_type": "code",
   "execution_count": 35,
   "metadata": {},
   "outputs": [
    {
     "data": {
      "text/plain": [
       "(1, 4000)"
      ]
     },
     "execution_count": 35,
     "metadata": {},
     "output_type": "execute_result"
    }
   ],
   "source": [
    "def random_minibatches(X,Y,mb_size,seed):\n",
    "    np.random.seed(seed)\n",
    "    m = X.shape[1]\n",
    "    mini_batches=[]\n",
    "    \n",
    "    permutation = list(np.random.permutation(m))\n",
    "    shuffled_X = X[:,permutation]\n",
    "    shuffled_Y = Y[:,permutation].reshape((1,m))\n",
    "    mb = mb_size\n",
    "    cmb = math.floor(m/mb)\n",
    "    for i in range(0,cmb):\n",
    "        mini_batch_X = shuffled_X[:,i*mb:(i+1)*mb]\n",
    "        mini_batch_Y = shuffled_Y[:,i*mb:(i+1)*mb]\n",
    "        mini_batch = (mini_batch_X,mini_batch_Y)\n",
    "        mini_batches.append(mini_batch)\n",
    "    \n",
    "    mini_batch_X = shuffled_X[:,cmb*mb:]\n",
    "    mini_batch_Y = shuffled_Y[:,cmb*mb:]\n",
    "    mini_batch = (mini_batch_X,mini_batch_Y)\n",
    "    mini_batches.append(mini_batch)\n",
    "    \n",
    "    return mini_batches"
   ]
  },
  {
   "cell_type": "code",
   "execution_count": 41,
   "metadata": {},
   "outputs": [],
   "source": [
    "def initialize_parameters(layer_dims):\n",
    "    parameters={}\n",
    "    L = len(layer_dims)\n",
    "    for l in range(L):\n",
    "        parameters[\"W\"+str(l+1)] = np.random.randn(layer_dims[l+1],layer_dims[l])*np.sqrt(2/layer_dims[l])\n",
    "        parameters[\"b\"+str(l+1)] = np.zeros(layer_dims[l+1],1)\n",
    "    return parameters\n",
    "    "
   ]
  },
  {
   "cell_type": "code",
   "execution_count": null,
   "metadata": {},
   "outputs": [],
   "source": []
  }
 ],
 "metadata": {
  "kernelspec": {
   "display_name": "Python 3",
   "language": "python",
   "name": "python3"
  },
  "language_info": {
   "codemirror_mode": {
    "name": "ipython",
    "version": 3
   },
   "file_extension": ".py",
   "mimetype": "text/x-python",
   "name": "python",
   "nbconvert_exporter": "python",
   "pygments_lexer": "ipython3",
   "version": "3.8.2"
  }
 },
 "nbformat": 4,
 "nbformat_minor": 4
}
